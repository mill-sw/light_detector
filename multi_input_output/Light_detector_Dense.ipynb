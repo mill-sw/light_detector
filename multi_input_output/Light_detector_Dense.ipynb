{
 "cells": [
  {
   "cell_type": "markdown",
   "source": [
    "# light on/off classification model\n",
    "\n",
    "```\n",
    "- 센서 데이터.csv -\n",
    "sensor, datetime, label\n",
    "0, 2020-07-01 08:28:37, 0\n",
    "35, 2020-07-01 08:38:37, 1\n",
    "40, 2020-07-01 08:48:37, 1\n",
    "0, 2020-07-01 08:58:37, 0\n",
    "0, 2020-07-01 09:08:37, 0\n",
    "0, 2020-07-01 09:18:37, 0\n",
    "\n",
    "- 데이터 내용 -\n",
    "column1(sensor) - 365일 동안 10분 간격으로 조도센서(값:0~100)\n",
    "column2(datetime) - datetime\n",
    "column3(label) - light on: 1, light off:0\n",
    "```"
   ],
   "metadata": {}
  },
  {
   "cell_type": "markdown",
   "source": [
    "## 1. setup"
   ],
   "metadata": {}
  },
  {
   "cell_type": "code",
   "execution_count": 1,
   "source": [
    "from datetime import datetime as dt\n",
    "import cv2, csv, os, glob, locale\n",
    "from pprint import pprint\n",
    "\n",
    "# import seaborn as sns\n",
    "import matplotlib.pyplot as plt\n",
    "import numpy as np\n",
    "import pandas as pd\n",
    "from sklearn import metrics\n",
    "from sklearn.model_selection import train_test_split\n",
    "from sklearn.metrics import roc_curve, auc, roc_auc_score\n",
    "from sklearn.preprocessing import label_binarize\n",
    "from sklearn.multiclass import OneVsRestClassifier\n",
    "from scipy import interp\n",
    "import tensorflow as tf\n",
    "import tensorflow.keras as k\n",
    "from tensorflow.math import confusion_matrix\n",
    "from tensorflow.keras.callbacks import EarlyStopping\n",
    "import plotly.express as px\n",
    "\n",
    "\n",
    "# 텐서보드 활성화\n",
    "%load_ext tensorboard"
   ],
   "outputs": [
    {
     "output_type": "stream",
     "name": "stderr",
     "text": [
      "2021-07-29 21:37:46.229669: I tensorflow/stream_executor/platform/default/dso_loader.cc:53] Successfully opened dynamic library libcudart.so.11.0\n"
     ]
    }
   ],
   "metadata": {}
  },
  {
   "cell_type": "code",
   "execution_count": 2,
   "source": [
    "# path\n",
    "path = '/home/z/PycharmProjects/test/label/'\n",
    "filepath = 'labeling_NW0511.csv'\n",
    "df = pd.read_csv(path + filepath)\n",
    "df = df[['device_field03', 'illuminance_onoff', 'device_data_reg_dtm']]\n",
    "light_data = df['device_field03']\n",
    "label_data = df['illuminance_onoff']\n",
    "time_data = df['device_data_reg_dtm']\n",
    "on_value = 1\n",
    "off_value = 0\n",
    "\n",
    "print(light_data.shape)\n",
    "print(label_data.shape)"
   ],
   "outputs": [
    {
     "output_type": "stream",
     "name": "stdout",
     "text": [
      "(48984,)\n",
      "(48984,)\n"
     ]
    }
   ],
   "metadata": {}
  },
  {
   "cell_type": "markdown",
   "source": [
    "## 2. filter data"
   ],
   "metadata": {}
  },
  {
   "cell_type": "code",
   "execution_count": 3,
   "source": [
    "# 9 to 0\n",
    "flag = 0\n",
    "for row, label in label_data.iteritems():\n",
    "    if label == 9 and flag == 0:\n",
    "        df.at[row, 'illuminance_onoff'] = off_value\n",
    "    elif label == 9 and flag == 1:\n",
    "        df.at[row, 'illuminance_onoff'] = on_value\n",
    "    elif label == 1 and flag == 0:\n",
    "        flag = 1\n",
    "    elif label == 0 and flag == 1:\n",
    "        flag = 0\n"
   ],
   "outputs": [],
   "metadata": {}
  },
  {
   "cell_type": "code",
   "execution_count": 4,
   "source": [
    "# night time filter\n",
    "cnt = 0\n",
    "for (row, light), (i, label), (j, time) in zip(light_data.iteritems(), label_data.iteritems(), time_data.iteritems()):\n",
    "    t = time[11:13]\n",
    "    if light < 5: df.at[row, 'illuminance_onoff'] = off_value\n",
    "    if 9 < int(t) < 18: df.at[row, 'illuminance_onoff'] = off_value"
   ],
   "outputs": [],
   "metadata": {}
  },
  {
   "cell_type": "code",
   "execution_count": 5,
   "source": [
    "# threadhold filter\n",
    "light = 0\n",
    "threshold = 15\n",
    "prev = 0\n",
    "flag = 0\n",
    "for row, now in light_data.iteritems():\n",
    "    if now - prev > threshold and flag == 0:\n",
    "        df.at[row, 'illuminance_onoff'] = on_value\n",
    "        flag = 1\n",
    "    elif prev - now > threshold and flag == 1:\n",
    "        df.at[row-1, 'illuminance_onoff'] = on_value\n",
    "        flag = 0\n",
    "    # elif flag == 1 and -1 < prev - now < 1:\n",
    "    #     df.at[row, 'illuminance_onoff'] = on_value\n",
    "    # elif flag == 0:\n",
    "    #     df.at[row, 'illuminance_onoff'] = off_value\n",
    "    prev = now"
   ],
   "outputs": [],
   "metadata": {}
  },
  {
   "cell_type": "code",
   "execution_count": 6,
   "source": [
    "# # plot\n",
    "# fig = px.line(df, x='device_data_reg_dtm', y=['device_field03', 'illuminance_onoff'])\n",
    "# fig.update_xaxes(rangeslider_visible=True)\n",
    "# fig.show()"
   ],
   "outputs": [],
   "metadata": {}
  },
  {
   "cell_type": "code",
   "execution_count": 7,
   "source": [
    "# Nomalize\n",
    "print(light_data[:10])\n",
    "mx = light_data.max()\n",
    "norm_data = light_data / mx\n",
    "# print(norm_data.shape)\n",
    "print(norm_data[:10])"
   ],
   "outputs": [
    {
     "output_type": "stream",
     "name": "stdout",
     "text": [
      "0    19.0\n",
      "1    19.0\n",
      "2    19.0\n",
      "3    19.0\n",
      "4    19.0\n",
      "5    17.0\n",
      "6    17.0\n",
      "7    19.0\n",
      "8    19.0\n",
      "9     0.0\n",
      "Name: device_field03, dtype: float64\n",
      "0    0.345455\n",
      "1    0.345455\n",
      "2    0.345455\n",
      "3    0.345455\n",
      "4    0.345455\n",
      "5    0.309091\n",
      "6    0.309091\n",
      "7    0.345455\n",
      "8    0.345455\n",
      "9    0.000000\n",
      "Name: device_field03, dtype: float64\n"
     ]
    }
   ],
   "metadata": {}
  },
  {
   "cell_type": "code",
   "execution_count": 16,
   "source": [
    "# Split\n",
    "split_index = int(len(light_data)*0.9)\n",
    "train_data, test_data = norm_data[:split_index], norm_data[split_index:]\n",
    "train_label, test_label = label_data[:split_index], label_data[split_index:]\n",
    "\n",
    "test_data.reset_index(drop=True, inplace=True)\n",
    "test_label.reset_index(drop=True, inplace=True)\n",
    "\n",
    "print(train_data.shape, test_data.shape)\n",
    "print(train_label.shape, test_label.shape)\n",
    "\n",
    "print(train_data[:10])\n",
    "print(test_data[:10])\n",
    "print(train_label[:10])\n",
    "print(test_label[:10])"
   ],
   "outputs": [
    {
     "output_type": "stream",
     "name": "stdout",
     "text": [
      "(44085,) (4899,)\n",
      "(44085,) (4899,)\n",
      "0    0.345455\n",
      "1    0.345455\n",
      "2    0.345455\n",
      "3    0.345455\n",
      "4    0.345455\n",
      "5    0.309091\n",
      "6    0.309091\n",
      "7    0.345455\n",
      "8    0.345455\n",
      "9    0.000000\n",
      "Name: device_field03, dtype: float64\n",
      "0    0.0\n",
      "1    0.0\n",
      "2    0.0\n",
      "3    0.0\n",
      "4    0.0\n",
      "5    0.0\n",
      "6    0.0\n",
      "7    0.0\n",
      "8    0.0\n",
      "9    0.0\n",
      "Name: device_field03, dtype: float64\n",
      "0    1\n",
      "1    0\n",
      "2    0\n",
      "3    0\n",
      "4    0\n",
      "5    0\n",
      "6    0\n",
      "7    0\n",
      "8    1\n",
      "9    0\n",
      "Name: illuminance_onoff, dtype: int64\n",
      "0    0\n",
      "1    0\n",
      "2    0\n",
      "3    0\n",
      "4    0\n",
      "5    0\n",
      "6    0\n",
      "7    0\n",
      "8    0\n",
      "9    0\n",
      "Name: illuminance_onoff, dtype: int64\n"
     ]
    }
   ],
   "metadata": {}
  },
  {
   "cell_type": "code",
   "execution_count": 17,
   "source": [
    "\n",
    "def to_sequences(timesteps, t1, t2):\n",
    "    train = []\n",
    "    test = []\n",
    "    a_temp = []\n",
    "    b_temp = []\n",
    "    cnt = 0\n",
    "    for i, j in zip(t1, t2):\n",
    "        if cnt < timesteps:\n",
    "            a_temp.append(i)\n",
    "            b_temp.append(j)\n",
    "            cnt += 1\n",
    "        else:\n",
    "            train.append(a_temp)\n",
    "            test.append(b_temp)\n",
    "            a_temp = list()\n",
    "            b_temp = list()\n",
    "            cnt = 0    \n",
    "            \n",
    "    return train, test\n",
    "\n",
    "timesteps = 3\n",
    "# seq_data, seq_label = to_sequences(timesteps, light_data, label_data)\n",
    "train_data, test_data = to_sequences(timesteps, train_data, test_data)\n",
    "train_label, test_label = to_sequences(timesteps, train_label, test_label)\n",
    "train_data = np.array(train_data)\n",
    "test_data = np.array(test_data)\n",
    "train_label = np.array(train_label)\n",
    "test_label = np.array(test_label)\n",
    "\n",
    "# seq_data = np.array(seq_data)\n",
    "# seq_label = np.array(seq_label)\n",
    "print(train_data.shape, test_data.shape)\n",
    "print(train_label.shape, test_label.shape)\n",
    "print(train_data[:10])\n",
    "print(test_data[:10])\n",
    "print(train_label[:10])\n",
    "print(test_label[:10])\n",
    "\n",
    "# print(seq_data[:10])\n",
    "# print(seq_label[:10])"
   ],
   "outputs": [
    {
     "output_type": "stream",
     "name": "stdout",
     "text": [
      "(1224, 3) (1224, 3)\n",
      "(1224, 3) (1224, 3)\n",
      "[[0.34545455 0.34545455 0.34545455]\n",
      " [0.34545455 0.30909091 0.30909091]\n",
      " [0.34545455 0.         0.        ]\n",
      " [0.         0.         0.        ]\n",
      " [0.         0.         0.        ]\n",
      " [0.         0.         0.        ]\n",
      " [0.         0.         0.        ]\n",
      " [0.         0.         0.        ]\n",
      " [0.         0.         0.        ]\n",
      " [0.         0.         0.        ]]\n",
      "[[0.         0.         0.        ]\n",
      " [0.         0.         0.        ]\n",
      " [0.         0.         0.        ]\n",
      " [0.         0.         0.        ]\n",
      " [0.         0.         0.        ]\n",
      " [0.         0.         0.        ]\n",
      " [0.         0.         0.        ]\n",
      " [0.05454545 0.07272727 0.07272727]\n",
      " [0.2        0.30909091 0.30909091]\n",
      " [0.21818182 0.25454545 0.25454545]]\n",
      "[[1 0 0]\n",
      " [0 0 0]\n",
      " [1 0 0]\n",
      " [0 0 0]\n",
      " [0 0 0]\n",
      " [0 0 0]\n",
      " [0 0 0]\n",
      " [0 0 0]\n",
      " [0 0 0]\n",
      " [0 0 0]]\n",
      "[[0 0 0]\n",
      " [0 0 0]\n",
      " [0 0 0]\n",
      " [0 0 0]\n",
      " [0 0 0]\n",
      " [0 0 0]\n",
      " [0 0 0]\n",
      " [0 0 0]\n",
      " [0 0 0]\n",
      " [0 0 0]]\n"
     ]
    }
   ],
   "metadata": {}
  },
  {
   "cell_type": "code",
   "execution_count": null,
   "source": [
    "\n",
    "# def to_sequences(seq_size, target):\n",
    "#     x = []\n",
    "#     y = []\n",
    "\n",
    "#     for i in range(target):\n",
    "#         p\n",
    "\n",
    "\n",
    "#         #print(i)\n",
    "#         window = obs[i:(i+SEQUENCE_SIZE)]\n",
    "#         after_window = obs[i+SEQUENCE_SIZE]\n",
    "#         window = [[x] for x in window]\n",
    "#         #print(\"{} - {}\".format(window,after_window))\n",
    "#         x.append(window)\n",
    "#         y.append(after_window)\n",
    "        \n",
    "#     return np.array(x),np.array(y)\n",
    "    \n",
    "    \n",
    "# SEQUENCE_SIZE = 6\n",
    "# x_train, y_train = to_sequences(SEQUENCE_SIZE,spots_train)\n",
    "# x_test, y_test = to_sequences(SEQUENCE_SIZE,spots_test)\n",
    "\n",
    "# print(\"Shape of training set: {}\".format(x_train.shape))\n",
    "# print(\"Shape of test set: {}\".format(x_test.shape))\n"
   ],
   "outputs": [],
   "metadata": {}
  },
  {
   "cell_type": "code",
   "execution_count": null,
   "source": [
    "# # data start padding\n",
    "# train_label.loc[-1] = 0\n",
    "# train_label.index = train_label.index + 1\n",
    "# train_label = train_label.sort_index()\n",
    "# print(train_label)\n",
    "\n",
    "# # label data start padding\n",
    "# test_label.loc[-1] = 0\n",
    "# test_label.index = test_label.index + 1\n",
    "# test_label = test_label.sort_index()\n",
    "# print(test_label)"
   ],
   "outputs": [],
   "metadata": {}
  },
  {
   "cell_type": "code",
   "execution_count": null,
   "source": [
    "# # cnn data to rnn data\n",
    "# timesteps = 2\n",
    "# p = -1\n",
    "# train_generator = k.preprocessing.sequence.TimeseriesGenerator(\n",
    "# \ttrain_data[:], train_label[:p], timesteps, sampling_rate=1, stride=1, \n",
    "#     start_index=0, end_index=None, shuffle=False, \n",
    "# \treverse=False, batch_size=1,)\n",
    "\t\n",
    "# test_generator = k.preprocessing.sequence.TimeseriesGenerator(\n",
    "# \ttest_data[:], test_label[:p], timesteps, sampling_rate=1, stride=1, \n",
    "#     start_index=0, end_index=None, shuffle=False, \n",
    "# \treverse=False, batch_size=1,)\n",
    "\t\n",
    "# print('Samples: ', len(train_generator))\n",
    "# for i in range(100):\n",
    "# \tx, y = train_generator[i]\n",
    "# \tprint(x, '>>>', y)\n",
    "\n",
    "# print('Samples: ', len(test_generator))\n",
    "# for i in range(100):\n",
    "# \tx, y = test_generator[i]\n",
    "# \tprint(x, '>>>', y)"
   ],
   "outputs": [],
   "metadata": {}
  },
  {
   "cell_type": "code",
   "execution_count": 39,
   "source": [
    "# model\n",
    "input = k.Input(shape=(timesteps,1))\n",
    "# input = k.Input(shape=(None,timesteps))\n",
    "\n",
    "# x = k.layers.LSTM(128, activation=\"sigmoid\", dropout=0.2, recurrent_dropout=0.2)(input)\n",
    "x = k.layers.Dense(3, activation=\"sigmoid\")(input)\n",
    "# x = k.layers.Dense(64, activation=\"sigmoid\")(x)\n",
    "# x = k.layers.Dense(32, activation=\"sigmoid\")(x)\n",
    "# x = k.layers.Dense(16, activation=\"sigmoid\")(x)\n",
    "# x = k.layers.Dense(8, activation=\"sigmoid\")(x)\n",
    "# x = k.layers.Dense(4, activation=\"sigmoid\")(x)\n",
    "# x = k.layers.Dense(2, activation=\"sigmoid\")(x)\n",
    "\n",
    "output = k.layers.Dense(1, activation=\"sigmoid\")(x)\n",
    "\n",
    "model = k.Model(input, output)\n",
    "model.compile(loss='binary_crossentropy', optimizer='adam', metrics=['accuracy'])\n",
    "model.summary()\n",
    "\n",
    "# fit\n",
    "log_path = \"logs/\" + dt.now().strftime(\"%Y%m%d-%H%M%S\")\n",
    "tensorboard_callback = k.callbacks.TensorBoard(log_dir=log_path, histogram_freq=1)\n",
    "es = EarlyStopping(monitor=\"loss\", patience=10, mode=\"min\", verbose=1)\n",
    "\n",
    "history = model.fit(train_data, train_label, validation_split=0.1, epochs=1000, verbose=0, callbacks=[es]) # callbacks=[es, tensorboard_callback])\n",
    "\n",
    "# plot\n",
    "pd.DataFrame(history.history).plot(figsize=(16,10), grid=1, xlabel=\"epoch\", ylabel=\"accuracy\")\n",
    "plt.show()"
   ],
   "outputs": [
    {
     "output_type": "stream",
     "name": "stdout",
     "text": [
      "Model: \"model_19\"\n",
      "_________________________________________________________________\n",
      "Layer (type)                 Output Shape              Param #   \n",
      "=================================================================\n",
      "input_21 (InputLayer)        [(None, 3, 1)]            0         \n",
      "_________________________________________________________________\n",
      "dense_122 (Dense)            (None, 3, 3)              6         \n",
      "_________________________________________________________________\n",
      "dense_123 (Dense)            (None, 3, 1)              4         \n",
      "=================================================================\n",
      "Total params: 10\n",
      "Trainable params: 10\n",
      "Non-trainable params: 0\n",
      "_________________________________________________________________\n"
     ]
    },
    {
     "output_type": "stream",
     "name": "stderr",
     "text": [
      "2021-07-29 21:50:56.268860: I tensorflow/core/profiler/lib/profiler_session.cc:126] Profiler session initializing.\n",
      "2021-07-29 21:50:56.268892: I tensorflow/core/profiler/lib/profiler_session.cc:141] Profiler session started.\n",
      "2021-07-29 21:50:56.414432: I tensorflow/core/profiler/lib/profiler_session.cc:159] Profiler session tear down.\n",
      "2021-07-29 21:50:56.416009: I tensorflow/core/profiler/internal/gpu/cupti_tracer.cc:1743] CUPTI activity buffer flushed\n"
     ]
    }
   ],
   "metadata": {}
  },
  {
   "cell_type": "code",
   "execution_count": null,
   "source": [
    "# # dataset\n",
    "# series = np.array([1, 2, 3, 4, 5, 6, 7, 8, 9, 10])\n",
    "# # reshape to [10, 1]\n",
    "# n_features = 1\n",
    "# series = series.reshape((len(series), n_features))\n",
    "\n",
    "# # generator\n",
    "# n_input = 2\n",
    "# generator = TimeseriesGenerator(series, series, length=n_input, batch_size=8)\n",
    "\n",
    "# # model\n",
    "# model = k.Sequential()\n",
    "# model.add(k.layers.LSTM(100, activation='sigmoid', input_shape=(length, n_features)))\n",
    "# model.add(k.layers.Dense(2))\n",
    "# model.compile(optimizer='adam', loss='binary_crossentropy')\n",
    "\n",
    "# # fit \n",
    "# history = model.fit_generator(generator, steps_per_epoch=1, epochs=100, verbose=0)\n",
    "\n",
    "# # make a one step prediction out of sample\n",
    "# x_input = np.array([9, 10]).reshape((1, n_input, n_features))\n",
    "# yhat = model.predict(x_input, verbose=0)\n",
    "# print(yhat)\n",
    "\n",
    "# # plot\n",
    "# pd.DataFrame(history.history).plot()\n",
    "# plt.show()"
   ],
   "outputs": [],
   "metadata": {}
  },
  {
   "cell_type": "code",
   "execution_count": null,
   "source": [
    "# input = k.Input(shape=(length,1))\n",
    "\n",
    "# x = k.layers.Conv1D(100, (), activation=\"sigmoid\", dropout=0.1, recurrent_dropout=0.1)(input)\n",
    "\n",
    "# output = k.layers.Dense(2)(x)\n",
    "\n",
    "# model = k.Model(input, output)\n",
    "# model.compile(loss='binary_crossentropy', optimizer='adam', metrics=['accuracy'])\n",
    "# model.summary()"
   ],
   "outputs": [],
   "metadata": {}
  },
  {
   "cell_type": "code",
   "execution_count": null,
   "source": [
    "input = k.Input(shape=(timesteps,1))\n",
    "\n",
    "x = k.layers.LSTM(8, activation=\"sigmoid\", dropout=0.9, recurrent_dropout=0.9)(input)\n",
    "x = k.layers.Dense(4, activation=\"sigmoid\")(x)\n",
    "\n",
    "output = k.layers.Dense(1, activation=\"sigmoid\")(x)\n",
    "\n",
    "model = k.Model(input, output)\n",
    "model.compile(loss='binary_crossentropy', optimizer='adam', metrics=['accuracy'])\n",
    "model.summary()\n",
    "log_path = \"logs/\" + dt.now().strftime(\"%Y%m%d-%H%M%S\")\n",
    "tensorboard_callback = k.callbacks.TensorBoard(log_dir=log_path, histogram_freq=1)\n",
    "es = EarlyStopping(monitor=\"loss\", patience=10, mode=\"min\", verbose=1)\n",
    "\n",
    "history = model.fit_generator(train_generator, steps_per_epoch=1, epochs=1000, verbose=0, callbacks=[es]) # callbacks=[es, tensorboard_callback])\n",
    "\n",
    "# plot\n",
    "pd.DataFrame(history.history).plot(figsize=(16,10), grid=1, xlabel=\"epoch\", ylabel=\"accuracy\")\n",
    "plt.show()"
   ],
   "outputs": [
    {
     "output_type": "stream",
     "name": "stdout",
     "text": [
      "WARNING:tensorflow:Layer lstm_16 will not use cuDNN kernels since it doesn't meet the criteria. It will use a generic GPU kernel as fallback when running on GPU.\n",
      "Model: \"model_34\"\n",
      "_________________________________________________________________\n",
      "Layer (type)                 Output Shape              Param #   \n",
      "=================================================================\n",
      "input_36 (InputLayer)        [(None, 2, 1)]            0         \n",
      "_________________________________________________________________\n",
      "lstm_16 (LSTM)               (None, 8)                 320       \n",
      "_________________________________________________________________\n",
      "dense_86 (Dense)             (None, 4)                 36        \n",
      "_________________________________________________________________\n",
      "dense_87 (Dense)             (None, 1)                 5         \n",
      "=================================================================\n",
      "Total params: 361\n",
      "Trainable params: 361\n",
      "Non-trainable params: 0\n",
      "_________________________________________________________________\n"
     ]
    },
    {
     "output_type": "stream",
     "name": "stderr",
     "text": [
      "2021-07-29 17:59:12.227664: I tensorflow/core/profiler/lib/profiler_session.cc:126] Profiler session initializing.\n",
      "2021-07-29 17:59:12.227687: I tensorflow/core/profiler/lib/profiler_session.cc:141] Profiler session started.\n",
      "2021-07-29 17:59:12.353413: I tensorflow/core/profiler/lib/profiler_session.cc:159] Profiler session tear down.\n",
      "2021-07-29 17:59:12.355229: I tensorflow/core/profiler/internal/gpu/cupti_tracer.cc:1743] CUPTI activity buffer flushed\n"
     ]
    },
    {
     "output_type": "stream",
     "name": "stdout",
     "text": [
      "Epoch 00014: early stopping\n"
     ]
    },
    {
     "output_type": "display_data",
     "data": {
      "text/plain": [
       "<Figure size 1152x720 with 1 Axes>"
      ],
      "image/png": "[encoded data removed]"
     },
     "metadata": {
      "needs_background": "light"
     }
    }
   ],
   "metadata": {}
  },
  {
   "cell_type": "code",
   "execution_count": null,
   "source": [
    "# plot\n",
    "\n",
    "# # fig, (ax1, ax2) = plt.subplots(1, 2)\n",
    "# # accuracy plot\n",
    "# plt.plot(history.history['accuracy'])\n",
    "# plt.plot(history.history['val_accuracy'])\n",
    "# plt.title('model accuracy') plt.ylabel('accuracy')\n",
    "# plt.xlabel('epoch')\n",
    "# plt.legend(['train', 'test'], loc='upper left')\n",
    "# plt.show()\n",
    "# # loss plot\n",
    "# plt.plot(history.history['loss'])\n",
    "# plt.plot(history.history['val_loss'])\n",
    "# plt.title('model loss')\n",
    "# plt.ylabel('loss')\n",
    "# plt.xlabel('epoch')\n",
    "# plt.legend(['train', 'test'], loc='upper left')\n",
    "# plt.show()"
   ],
   "outputs": [],
   "metadata": {}
  },
  {
   "cell_type": "code",
   "execution_count": null,
   "source": [
    "test_loss, test_acc = model.evaluate(test_data,  test_label, verbose=2)\n",
    "\n",
    "print('\\nTest accuracy:', test_acc)"
   ],
   "outputs": [
    {
     "output_type": "display_data",
     "data": {
      "text/plain": [
       "<IPython.core.display.HTML object>"
      ],
      "text/html": [
       "\n",
       "      <iframe id=\"tensorboard-frame-9dd397298a1b1ab7\" width=\"100%\" height=\"800\" frameborder=\"0\">\n",
       "      </iframe>\n",
       "      <script>\n",
       "        (function() {\n",
       "          const frame = document.getElementById(\"tensorboard-frame-9dd397298a1b1ab7\");\n",
       "          const url = new URL(\"/\", window.location);\n",
       "          const port = 6006;\n",
       "          if (port) {\n",
       "            url.port = port;\n",
       "          }\n",
       "          frame.src = url;\n",
       "        })();\n",
       "      </script>\n",
       "    "
      ]
     },
     "metadata": {}
    }
   ],
   "metadata": {}
  },
  {
   "cell_type": "code",
   "execution_count": null,
   "source": [
    "# tensorboard @ localhost:6006\n",
    "%tensorboard --logdir logs/ --host localhost --port 6006"
   ],
   "outputs": [],
   "metadata": {}
  },
  {
   "cell_type": "code",
   "execution_count": null,
   "source": [
    "probability_model = k.Sequential([model, k.layers.Softmax()])\n",
    "predictions = probability_model.predict(test_data)\n"
   ],
   "outputs": [
    {
     "output_type": "execute_result",
     "data": {
      "text/plain": [
       "0"
      ]
     },
     "metadata": {},
     "execution_count": 16
    }
   ],
   "metadata": {}
  },
  {
   "cell_type": "code",
   "execution_count": null,
   "source": [
    "np.argmax(predictions[0])"
   ],
   "outputs": [
    {
     "output_type": "execute_result",
     "data": {
      "text/plain": [
       "array([[0],\n",
       "       [0],\n",
       "       [0],\n",
       "       [0],\n",
       "       [0],\n",
       "       [0],\n",
       "       [0],\n",
       "       [0],\n",
       "       [0],\n",
       "       [0],\n",
       "       [0],\n",
       "       [0],\n",
       "       [0],\n",
       "       [0],\n",
       "       [0],\n",
       "       [0],\n",
       "       [0],\n",
       "       [0],\n",
       "       [0],\n",
       "       [0],\n",
       "       [0],\n",
       "       [0],\n",
       "       [0],\n",
       "       [0],\n",
       "       [0],\n",
       "       [0],\n",
       "       [0],\n",
       "       [0],\n",
       "       [0],\n",
       "       [0],\n",
       "       [0],\n",
       "       [0],\n",
       "       [0],\n",
       "       [0],\n",
       "       [0],\n",
       "       [0],\n",
       "       [0],\n",
       "       [0],\n",
       "       [0],\n",
       "       [0],\n",
       "       [0],\n",
       "       [0],\n",
       "       [0],\n",
       "       [0],\n",
       "       [0],\n",
       "       [0],\n",
       "       [0],\n",
       "       [0],\n",
       "       [0],\n",
       "       [0],\n",
       "       [0],\n",
       "       [0],\n",
       "       [0],\n",
       "       [0],\n",
       "       [0],\n",
       "       [0],\n",
       "       [0],\n",
       "       [0],\n",
       "       [0],\n",
       "       [0],\n",
       "       [0],\n",
       "       [0],\n",
       "       [0],\n",
       "       [0],\n",
       "       [0],\n",
       "       [0],\n",
       "       [0],\n",
       "       [0],\n",
       "       [0],\n",
       "       [0],\n",
       "       [0],\n",
       "       [0],\n",
       "       [0],\n",
       "       [0],\n",
       "       [0],\n",
       "       [0],\n",
       "       [0],\n",
       "       [0],\n",
       "       [0],\n",
       "       [0],\n",
       "       [0],\n",
       "       [0],\n",
       "       [0],\n",
       "       [0],\n",
       "       [0],\n",
       "       [0],\n",
       "       [0],\n",
       "       [0],\n",
       "       [0],\n",
       "       [0],\n",
       "       [0],\n",
       "       [0],\n",
       "       [0],\n",
       "       [0],\n",
       "       [0],\n",
       "       [0],\n",
       "       [0],\n",
       "       [0],\n",
       "       [0],\n",
       "       [0],\n",
       "       [0],\n",
       "       [0],\n",
       "       [0],\n",
       "       [0],\n",
       "       [0],\n",
       "       [0],\n",
       "       [0],\n",
       "       [0],\n",
       "       [0],\n",
       "       [0],\n",
       "       [0],\n",
       "       [0],\n",
       "       [0],\n",
       "       [0],\n",
       "       [0],\n",
       "       [0],\n",
       "       [0],\n",
       "       [0],\n",
       "       [0],\n",
       "       [0],\n",
       "       [0],\n",
       "       [0],\n",
       "       [0],\n",
       "       [0],\n",
       "       [0],\n",
       "       [0],\n",
       "       [0],\n",
       "       [0],\n",
       "       [0],\n",
       "       [0],\n",
       "       [0],\n",
       "       [0],\n",
       "       [0],\n",
       "       [0],\n",
       "       [0],\n",
       "       [0],\n",
       "       [0],\n",
       "       [0],\n",
       "       [0],\n",
       "       [0],\n",
       "       [0],\n",
       "       [0],\n",
       "       [0],\n",
       "       [0]])"
      ]
     },
     "metadata": {},
     "execution_count": 17
    }
   ],
   "metadata": {}
  },
  {
   "cell_type": "code",
   "execution_count": null,
   "source": [
    "test_label[0]"
   ],
   "outputs": [
    {
     "output_type": "execute_result",
     "data": {
      "text/plain": [
       "array([[0],\n",
       "       [0],\n",
       "       [0],\n",
       "       [0],\n",
       "       [0],\n",
       "       [0],\n",
       "       [0],\n",
       "       [0],\n",
       "       [0],\n",
       "       [0],\n",
       "       [0],\n",
       "       [0],\n",
       "       [0],\n",
       "       [0],\n",
       "       [0],\n",
       "       [0],\n",
       "       [0],\n",
       "       [0],\n",
       "       [0],\n",
       "       [0],\n",
       "       [0],\n",
       "       [0],\n",
       "       [0],\n",
       "       [0],\n",
       "       [0],\n",
       "       [0],\n",
       "       [0],\n",
       "       [0],\n",
       "       [0],\n",
       "       [0],\n",
       "       [0],\n",
       "       [0],\n",
       "       [0],\n",
       "       [0],\n",
       "       [0],\n",
       "       [0],\n",
       "       [0],\n",
       "       [0],\n",
       "       [0],\n",
       "       [0],\n",
       "       [0],\n",
       "       [0],\n",
       "       [0],\n",
       "       [0],\n",
       "       [0],\n",
       "       [0],\n",
       "       [0],\n",
       "       [0],\n",
       "       [0],\n",
       "       [0],\n",
       "       [0],\n",
       "       [0],\n",
       "       [0],\n",
       "       [0],\n",
       "       [0],\n",
       "       [0],\n",
       "       [0],\n",
       "       [0],\n",
       "       [0],\n",
       "       [0],\n",
       "       [0],\n",
       "       [0],\n",
       "       [0],\n",
       "       [0],\n",
       "       [0],\n",
       "       [0],\n",
       "       [0],\n",
       "       [0],\n",
       "       [0],\n",
       "       [0],\n",
       "       [0],\n",
       "       [0],\n",
       "       [0],\n",
       "       [0],\n",
       "       [0],\n",
       "       [0],\n",
       "       [0],\n",
       "       [0],\n",
       "       [0],\n",
       "       [0],\n",
       "       [0],\n",
       "       [0],\n",
       "       [0],\n",
       "       [0],\n",
       "       [0],\n",
       "       [0],\n",
       "       [0],\n",
       "       [0],\n",
       "       [0],\n",
       "       [0],\n",
       "       [0],\n",
       "       [0],\n",
       "       [0],\n",
       "       [0],\n",
       "       [0],\n",
       "       [0],\n",
       "       [0],\n",
       "       [0],\n",
       "       [0],\n",
       "       [0],\n",
       "       [0],\n",
       "       [0],\n",
       "       [0],\n",
       "       [0],\n",
       "       [0],\n",
       "       [0],\n",
       "       [0],\n",
       "       [0],\n",
       "       [0],\n",
       "       [0],\n",
       "       [0],\n",
       "       [0],\n",
       "       [0],\n",
       "       [0],\n",
       "       [0],\n",
       "       [0],\n",
       "       [0],\n",
       "       [0],\n",
       "       [0],\n",
       "       [0],\n",
       "       [0],\n",
       "       [0],\n",
       "       [0],\n",
       "       [0],\n",
       "       [0],\n",
       "       [0],\n",
       "       [0],\n",
       "       [0],\n",
       "       [0],\n",
       "       [0],\n",
       "       [0],\n",
       "       [0],\n",
       "       [0],\n",
       "       [0],\n",
       "       [0],\n",
       "       [0],\n",
       "       [0],\n",
       "       [0],\n",
       "       [0],\n",
       "       [0],\n",
       "       [0],\n",
       "       [0],\n",
       "       [0],\n",
       "       [0]])"
      ]
     },
     "metadata": {},
     "execution_count": 18
    }
   ],
   "metadata": {}
  },
  {
   "cell_type": "code",
   "execution_count": null,
   "source": [
    "########## 평가 ##########\n",
    "model.evaluate(test_data, test_label)"
   ],
   "outputs": [
    {
     "output_type": "stream",
     "name": "stdout",
     "text": [
      "1/1 [==============================] - 0s 221ms/step - loss: 0.0630 - accuracy: 0.9959\n"
     ]
    },
    {
     "output_type": "execute_result",
     "data": {
      "text/plain": [
       "[0.06301040947437286, 0.9959149956703186]"
      ]
     },
     "metadata": {},
     "execution_count": 19
    }
   ],
   "metadata": {}
  },
  {
   "cell_type": "code",
   "execution_count": null,
   "source": [
    "########## CM ##########\n",
    "y5 = model.predict(test_data)\n",
    "predicted = np.argmax(y5, axis=1)\n",
    "\n",
    "draw_CM(test_label, predicted)"
   ],
   "outputs": [
    {
     "output_type": "error",
     "ename": "NameError",
     "evalue": "name 'draw_CM' is not defined",
     "traceback": [
      "\u001B[0;31m---------------------------------------------------------------------------\u001B[0m",
      "\u001B[0;31mNameError\u001B[0m                                 Traceback (most recent call last)",
      "\u001B[0;32m/tmp/ipykernel_25305/117727926.py\u001B[0m in \u001B[0;36m<module>\u001B[0;34m\u001B[0m\n\u001B[1;32m      3\u001B[0m \u001B[0mpredicted\u001B[0m \u001B[0;34m=\u001B[0m \u001B[0mnp\u001B[0m\u001B[0;34m.\u001B[0m\u001B[0margmax\u001B[0m\u001B[0;34m(\u001B[0m\u001B[0my5\u001B[0m\u001B[0;34m,\u001B[0m \u001B[0maxis\u001B[0m\u001B[0;34m=\u001B[0m\u001B[0;36m1\u001B[0m\u001B[0;34m)\u001B[0m\u001B[0;34m\u001B[0m\u001B[0;34m\u001B[0m\u001B[0m\n\u001B[1;32m      4\u001B[0m \u001B[0;34m\u001B[0m\u001B[0m\n\u001B[0;32m----> 5\u001B[0;31m \u001B[0mdraw_CM\u001B[0m\u001B[0;34m(\u001B[0m\u001B[0mtest_label\u001B[0m\u001B[0;34m,\u001B[0m \u001B[0mpredicted\u001B[0m\u001B[0;34m)\u001B[0m\u001B[0;34m\u001B[0m\u001B[0;34m\u001B[0m\u001B[0m\n\u001B[0m",
      "\u001B[0;31mNameError\u001B[0m: name 'draw_CM' is not defined"
     ]
    }
   ],
   "metadata": {}
  },
  {
   "cell_type": "code",
   "execution_count": null,
   "source": [
    "########## ROC, AUC ##########\n",
    "y5 = label_binarize(test_y, classes=classes)\n",
    "x5 = label_binarize(predicted, classes=classes)\n",
    "\n",
    "draw_ROC_AUC(x5, y5, category_names)"
   ],
   "outputs": [],
   "metadata": {}
  },
  {
   "cell_type": "code",
   "execution_count": null,
   "source": [],
   "outputs": [],
   "metadata": {}
  },
  {
   "cell_type": "code",
   "execution_count": null,
   "source": [],
   "outputs": [],
   "metadata": {}
  },
  {
   "cell_type": "code",
   "execution_count": null,
   "source": [],
   "outputs": [],
   "metadata": {
    "collapsed": false,
    "pycharm": {
     "name": "#%%\n"
    }
   }
  }
 ],
 "metadata": {
  "orig_nbformat": 4,
  "language_info": {
   "name": "python",
   "version": "3.8.10",
   "mimetype": "text/x-python",
   "codemirror_mode": {
    "name": "ipython",
    "version": 3
   },
   "pygments_lexer": "ipython3",
   "nbconvert_exporter": "python",
   "file_extension": ".py"
  },
  "kernelspec": {
   "name": "python3",
   "display_name": "Python 3.8.10 64-bit"
  },
  "interpreter": {
   "hash": "31f2aee4e71d21fbe5cf8b01ff0e069b9275f58929596ceb00d14d90e3e16cd6"
  }
 },
 "nbformat": 4,
 "nbformat_minor": 2
}