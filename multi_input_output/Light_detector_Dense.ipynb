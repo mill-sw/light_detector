{
 "cells": [
  {
   "cell_type": "markdown",
   "source": [
    "# light on/off classification model\n",
    "1. setup\n",
    "2. filter data\n",
    "3. preprocessing data\n",
    "4. make model & fit data\n",
    "5. evaluate model & predict test\n",
    "6. save model\n",
    "\n",
    "```\n",
    "- data.csv -\n",
    "sensor, datetime, label\n",
    "0, 2020-07-01 08:28:37, 0\n",
    "35, 2020-07-01 08:38:37, 1\n",
    "40, 2020-07-01 08:48:37, 1\n",
    "0, 2020-07-01 08:58:37, 0\n",
    "0, 2020-07-01 09:08:37, 0\n",
    "0, 2020-07-01 09:18:37, 0\n",
    "\n",
    "- data_description -\n",
    "column1(sensor) - 365일 동안 10분 간격으로 조도센서(값:0~100)\n",
    "column2(datetime) - datetime\n",
    "column3(label) - light on: 1, light off:0\n",
    "```"
   ],
   "metadata": {}
  },
  {
   "cell_type": "markdown",
   "source": [
    "## 1. setup"
   ],
   "metadata": {}
  },
  {
   "cell_type": "code",
   "execution_count": 2,
   "source": [
    "from datetime import datetime as dt\n",
    "import csv, os, glob\n",
    "from pprint import pprint\n",
    "\n",
    "# import seaborn as sns\n",
    "import matplotlib.pyplot as plt\n",
    "import numpy as np\n",
    "import pandas as pd\n",
    "from sklearn import metrics\n",
    "from sklearn.metrics import roc_curve, auc, roc_auc_score\n",
    "from sklearn.preprocessing import label_binarize\n",
    "from scipy import interp\n",
    "import tensorflow.keras as k\n",
    "from tensorflow.math import confusion_matrix\n",
    "from tensorflow.keras.callbacks import EarlyStopping\n",
    "import plotly.express as px\n",
    "\n",
    "\n",
    "# load tensorboard\n",
    "%load_ext tensorboard"
   ],
   "outputs": [
    {
     "output_type": "stream",
     "name": "stderr",
     "text": [
      "2021-07-30 17:43:45.749911: I tensorflow/stream_executor/platform/default/dso_loader.cc:53] Successfully opened dynamic library libcudart.so.11.0\n"
     ]
    }
   ],
   "metadata": {}
  },
  {
   "cell_type": "code",
   "execution_count": 3,
   "source": [
    "def draw_CM(label, predicted):\n",
    "    cm = confusion_matrix(label, predicted)\n",
    "    sns.heatmap(cm, annot=True, fmt=\"d\")\n",
    "    plt.ylabel('Actual label')\n",
    "    plt.xlabel('Predicted label')\n",
    "\n",
    "    # true : false rate\n",
    "    true = 0\n",
    "    false = 0\n",
    "    for i, j in enumerate(label):\n",
    "        if j != predicted[i] :\n",
    "            false += 1\n",
    "        else: true += 1\n",
    "\n",
    "    classification_report = metrics.classification_report(label, predicted)\n",
    "\n",
    "    multilabel_to_binary_matrics = metrics.multilabel_confusion_matrix(label, predicted)\n",
    "\n",
    "    return plt.show(), print('true rate: ', true), print('false rate: ', false), print(), print('='*10, 'classification_report: ', '\\n', classification_report), print('='*10, 'multilabel_to_binary_matrics by class_num: ','\\n','[[TN / FP] [FN / TP]]','\\n', multilabel_to_binary_matrics)"
   ],
   "outputs": [],
   "metadata": {}
  },
  {
   "cell_type": "code",
   "execution_count": 4,
   "source": [
    "def draw_ROC_AUC(x, y, category_names):\n",
    "    n_classes = len(category_names)\n",
    "\n",
    "    fpr = dict()\n",
    "    tpr = dict()\n",
    "    roc_auc = dict()\n",
    "\n",
    "    for i in range(n_classes):\n",
    "        fpr[i], tpr[i], _ = roc_curve(y[:, i], x[:, i])\n",
    "        roc_auc[i] = auc(fpr[i], tpr[i])\n",
    "\n",
    "    fpr[\"micro\"], tpr[\"micro\"], _ = roc_curve(y.ravel(), x.ravel())\n",
    "    roc_auc[\"micro\"] = auc(fpr[\"micro\"], tpr[\"micro\"])\n",
    "\n",
    "    all_fpr = np.unique(np.concatenate([fpr[i] for i in range(n_classes)]))\n",
    "\n",
    "    mean_tpr = np.zeros_like(all_fpr)\n",
    "    for i in range(n_classes):\n",
    "        mean_tpr += interp(all_fpr, fpr[i], tpr[i])\n",
    "\n",
    "    mean_tpr /= n_classes\n",
    "\n",
    "    fpr[\"macro\"] = all_fpr\n",
    "    tpr[\"macro\"] = mean_tpr\n",
    "    roc_auc[\"macro\"] = auc(fpr[\"macro\"], tpr[\"macro\"])\n",
    "\n",
    "    plt.figure()\n",
    "    plt.plot(fpr[\"micro\"], tpr[\"micro\"],\n",
    "            label=f'micro-average ROC curve (area = {roc_auc[\"micro\"]:0.2f})', \n",
    "            color='deeppink', linestyle=':', linewidth=1)\n",
    "\n",
    "    plt.plot(fpr[\"macro\"], tpr[\"macro\"],\n",
    "            label=f'macro-average ROC curve (area = {roc_auc[\"macro\"]:0.2f})',\n",
    "            color='navy', linestyle=':', linewidth=1)\n",
    "\n",
    "    colors = (['purple', 'pink', 'red', 'green', 'yellow', 'cyan', 'magenta', 'blue'])\n",
    "    for i, color in zip(range(n_classes), colors):\n",
    "        plt.plot(fpr[i], tpr[i], color=color, lw=1, label=f'Class {i} ROC curve (area = {roc_auc[i]:0.2f})')\n",
    "\n",
    "    plt.plot([0, 1], [0, 1], 'k--', lw=1)\n",
    "    plt.xlim([-.01, 1.0])\n",
    "    plt.ylim([0.0, 1.01])\n",
    "    plt.xlabel('False Positive Rate')\n",
    "    plt.ylabel('True Positive Rate')\n",
    "    plt.title('ROC & AUC')\n",
    "    plt.legend(loc=\"lower right\")\n",
    "\n",
    "    return plt.show()"
   ],
   "outputs": [],
   "metadata": {}
  },
  {
   "cell_type": "markdown",
   "source": [],
   "metadata": {}
  },
  {
   "cell_type": "code",
   "execution_count": 5,
   "source": [
    "path = '/home/z/PycharmProjects/test/label/'\n",
    "# filepath = 'labeling_NW0514.csv'\n",
    "for i in glob.glob(path + '*.csv'):\n",
    "    df = pd.read_csv(i)\n",
    "    df = df[['device_field03', 'illuminance_onoff', 'device_data_reg_dtm']]\n",
    "    # df = df.assign(new = df['illuminance_onoff'])\n",
    "    time_data = df['device_data_reg_dtm']\n",
    "    label_data = df['illuminance_onoff']\n",
    "    light_data = df['device_field03']\n",
    "    # new = df['new']"
   ],
   "outputs": [],
   "metadata": {}
  },
  {
   "cell_type": "code",
   "execution_count": 6,
   "source": [
    "# path\n",
    "path = '/home/z/PycharmProjects/test/label/'\n",
    "filepath = 'labeling_NW0511.csv'\n",
    "df = pd.read_csv(path + filepath)\n",
    "df = df[['device_field03', 'illuminance_onoff', 'device_data_reg_dtm']]\n",
    "light_data = df['device_field03']\n",
    "label_data = df['illuminance_onoff']\n",
    "time_data = df['device_data_reg_dtm']\n",
    "on_value = 1\n",
    "off_value = 0\n",
    "\n",
    "print(light_data.shape)\n",
    "print(label_data.shape)"
   ],
   "outputs": [
    {
     "output_type": "stream",
     "name": "stdout",
     "text": [
      "(48984,)\n",
      "(48984,)\n"
     ]
    }
   ],
   "metadata": {}
  },
  {
   "cell_type": "markdown",
   "source": [
    "## 2. filter data"
   ],
   "metadata": {}
  },
  {
   "cell_type": "code",
   "execution_count": 7,
   "source": [
    "# 9 to 0\n",
    "flag = 0\n",
    "for row, label in label_data.iteritems():\n",
    "    if label == 9 and flag == 0:\n",
    "        df.at[row, 'illuminance_onoff'] = off_value\n",
    "    elif label == 9 and flag == 1:\n",
    "        df.at[row, 'illuminance_onoff'] = on_value\n",
    "    elif label == 1 and flag == 0:\n",
    "        flag = 1\n",
    "    elif label == 0 and flag == 1:\n",
    "        flag = 0\n"
   ],
   "outputs": [],
   "metadata": {}
  },
  {
   "cell_type": "code",
   "execution_count": 8,
   "source": [
    "# night time filter\n",
    "cnt = 0\n",
    "for (row, light), (i, label), (j, time) in zip(light_data.iteritems(), label_data.iteritems(), time_data.iteritems()):\n",
    "    t = time[11:13]\n",
    "    if light < 5: df.at[row, 'illuminance_onoff'] = off_value\n",
    "    if 9 < int(t) < 18: df.at[row, 'illuminance_onoff'] = off_value"
   ],
   "outputs": [],
   "metadata": {}
  },
  {
   "cell_type": "code",
   "execution_count": 9,
   "source": [
    "# threadhold filter\n",
    "light = 0\n",
    "threshold = 15\n",
    "prev = 0\n",
    "flag = 0\n",
    "for row, now in light_data.iteritems():\n",
    "    if now - prev > threshold and flag == 0:\n",
    "        df.at[row, 'illuminance_onoff'] = on_value\n",
    "        flag = 1\n",
    "    elif prev - now > threshold and flag == 1:\n",
    "        df.at[row-1, 'illuminance_onoff'] = on_value\n",
    "        flag = 0\n",
    "    # elif flag == 1 and -1 < prev - now < 1:\n",
    "    #     df.at[row, 'illuminance_onoff'] = on_value\n",
    "    # elif flag == 0:\n",
    "    #     df.at[row, 'illuminance_onoff'] = off_value\n",
    "    prev = now"
   ],
   "outputs": [],
   "metadata": {}
  },
  {
   "cell_type": "code",
   "execution_count": 10,
   "source": [
    "# # plot\n",
    "# fig = px.line(df, x='device_data_reg_dtm', y=['device_field03', 'illuminance_onoff'])\n",
    "# fig.update_xaxes(rangeslider_visible=True)\n",
    "# fig.show()"
   ],
   "outputs": [],
   "metadata": {}
  },
  {
   "cell_type": "code",
   "execution_count": 11,
   "source": [
    "# Nomalize\n",
    "print(light_data[:10])\n",
    "mx = light_data.max()\n",
    "norm_data = light_data / mx\n",
    "# print(norm_data.shape)\n",
    "print(norm_data[:10])"
   ],
   "outputs": [
    {
     "output_type": "stream",
     "name": "stdout",
     "text": [
      "0    19.0\n",
      "1    19.0\n",
      "2    19.0\n",
      "3    19.0\n",
      "4    19.0\n",
      "5    17.0\n",
      "6    17.0\n",
      "7    19.0\n",
      "8    19.0\n",
      "9     0.0\n",
      "Name: device_field03, dtype: float64\n",
      "0    0.345455\n",
      "1    0.345455\n",
      "2    0.345455\n",
      "3    0.345455\n",
      "4    0.345455\n",
      "5    0.309091\n",
      "6    0.309091\n",
      "7    0.345455\n",
      "8    0.345455\n",
      "9    0.000000\n",
      "Name: device_field03, dtype: float64\n"
     ]
    }
   ],
   "metadata": {}
  },
  {
   "cell_type": "code",
   "execution_count": 84,
   "source": [
    "# Split\n",
    "split_index = int(len(light_data)*0.9)\n",
    "train_data, test_data = norm_data[:split_index], norm_data[split_index:]\n",
    "train_label, test_label = label_data[:split_index], label_data[split_index:]\n",
    "\n",
    "test_data.reset_index(drop=True, inplace=True)\n",
    "test_label.reset_index(drop=True, inplace=True)\n",
    "\n",
    "print(train_data.shape, test_data.shape)\n",
    "print(train_label.shape, test_label.shape)\n",
    "\n",
    "print(train_data[:10])\n",
    "print(test_data[:10])\n",
    "print(train_label[:10])\n",
    "print(test_label[:10])"
   ],
   "outputs": [
    {
     "output_type": "stream",
     "name": "stdout",
     "text": [
      "(44085,) (4899,)\n",
      "(44085,) (4899,)\n",
      "0    0.345455\n",
      "1    0.345455\n",
      "2    0.345455\n",
      "3    0.345455\n",
      "4    0.345455\n",
      "5    0.309091\n",
      "6    0.309091\n",
      "7    0.345455\n",
      "8    0.345455\n",
      "9    0.000000\n",
      "Name: device_field03, dtype: float64\n",
      "0    0.0\n",
      "1    0.0\n",
      "2    0.0\n",
      "3    0.0\n",
      "4    0.0\n",
      "5    0.0\n",
      "6    0.0\n",
      "7    0.0\n",
      "8    0.0\n",
      "9    0.0\n",
      "Name: device_field03, dtype: float64\n",
      "0    1\n",
      "1    0\n",
      "2    0\n",
      "3    0\n",
      "4    0\n",
      "5    0\n",
      "6    0\n",
      "7    0\n",
      "8    1\n",
      "9    0\n",
      "Name: illuminance_onoff, dtype: int64\n",
      "0    0\n",
      "1    0\n",
      "2    0\n",
      "3    0\n",
      "4    0\n",
      "5    0\n",
      "6    0\n",
      "7    0\n",
      "8    0\n",
      "9    0\n",
      "Name: illuminance_onoff, dtype: int64\n"
     ]
    }
   ],
   "metadata": {}
  },
  {
   "cell_type": "markdown",
   "source": [
    "## 3. preprocessing data"
   ],
   "metadata": {}
  },
  {
   "cell_type": "code",
   "execution_count": 85,
   "source": [
    "\n",
    "def to_sequences(timesteps, t1, t2):\n",
    "    train = []\n",
    "    test = []\n",
    "    a_temp = []\n",
    "    b_temp = []\n",
    "    cnt = 0\n",
    "    for i, j in zip(t1, t2):\n",
    "        if cnt < timesteps:\n",
    "            a_temp.append(i)\n",
    "            b_temp.append(j)\n",
    "            cnt += 1\n",
    "        else:\n",
    "            train.append(a_temp)\n",
    "            test.append(b_temp)\n",
    "            a_temp = list()\n",
    "            b_temp = list()\n",
    "            cnt = 0    \n",
    "            \n",
    "    return train, test\n",
    "\n",
    "timesteps = 2\n",
    "# seq_data, seq_label = to_sequences(timesteps, light_data, label_data)\n",
    "train_data, test_data = to_sequences(timesteps, train_data, test_data)\n",
    "train_label, test_label = to_sequences(timesteps, train_label, test_label)\n",
    "train_data = np.array(train_data)\n",
    "test_data = np.array(test_data)\n",
    "train_label = np.array(train_label)\n",
    "test_label = np.array(test_label)\n",
    "\n",
    "# seq_data = np.array(seq_data)\n",
    "# seq_label = np.array(seq_label)\n",
    "print(train_data.shape, test_data.shape)\n",
    "print(train_label.shape, test_label.shape)\n",
    "print(train_data[:10])\n",
    "print(test_data[:10])\n",
    "print(train_label[:10])\n",
    "print(test_label[:10])\n",
    "\n",
    "# print(seq_data[:10])\n",
    "# print(seq_label[:10])"
   ],
   "outputs": [
    {
     "output_type": "stream",
     "name": "stdout",
     "text": [
      "(1633, 2) (1633, 2)\n",
      "(1633, 2) (1633, 2)\n",
      "[[0.34545455 0.34545455]\n",
      " [0.34545455 0.34545455]\n",
      " [0.30909091 0.34545455]\n",
      " [0.         0.        ]\n",
      " [0.         0.        ]\n",
      " [0.         0.        ]\n",
      " [0.         0.        ]\n",
      " [0.         0.        ]\n",
      " [0.         0.        ]\n",
      " [0.         0.        ]]\n",
      "[[0.         0.        ]\n",
      " [0.         0.        ]\n",
      " [0.         0.        ]\n",
      " [0.         0.        ]\n",
      " [0.         0.        ]\n",
      " [0.         0.        ]\n",
      " [0.         0.        ]\n",
      " [0.         0.        ]\n",
      " [0.         0.        ]\n",
      " [0.01818182 0.05454545]]\n",
      "[[1 0]\n",
      " [0 0]\n",
      " [0 0]\n",
      " [0 0]\n",
      " [0 0]\n",
      " [0 0]\n",
      " [0 0]\n",
      " [0 0]\n",
      " [0 0]\n",
      " [0 0]]\n",
      "[[0 0]\n",
      " [0 0]\n",
      " [0 0]\n",
      " [0 0]\n",
      " [0 0]\n",
      " [0 0]\n",
      " [0 0]\n",
      " [0 0]\n",
      " [0 0]\n",
      " [0 0]]\n"
     ]
    }
   ],
   "metadata": {}
  },
  {
   "cell_type": "markdown",
   "source": [
    "## 5. make model & fit data"
   ],
   "metadata": {}
  },
  {
   "cell_type": "code",
   "execution_count": 86,
   "source": [
    "# model\n",
    "input = k.Input(shape=(timesteps,1))\n",
    "# input = k.Input(shape=(None,timesteps))\n",
    "\n",
    "# x = k.layers.LSTM(128, activation=\"sigmoid\", dropout=0.2, recurrent_dropout=0.2)(input)\n",
    "x = k.layers.Dense(3, activation=\"sigmoid\")(input)\n",
    "# x = k.layers.Dense(12, activation=\"sigmoid\")(x)\n",
    "# x = k.layers.Dense(9, activation=\"sigmoid\")(x)\n",
    "# x = k.layers.Dense(16, activation=\"sigmoid\")(x)\n",
    "# x = k.layers.Dense(8, activation=\"sigmoid\")(x)\n",
    "\n",
    "output = k.layers.Dense(1, activation=\"sigmoid\")(x)\n",
    "\n",
    "model = k.Model(input, output)\n",
    "model.compile(loss='binary_crossentropy', optimizer='adam', metrics=['accuracy'])\n",
    "model.summary()\n",
    "\n",
    "# fit\n",
    "log_path = \"logs/\" + dt.now().strftime(\"%Y%m%d-%H%M%S\")\n",
    "tensorboard_callback = k.callbacks.TensorBoard(log_dir=log_path, histogram_freq=1)\n",
    "es = EarlyStopping(monitor=\"loss\", patience=10, mode=\"min\", verbose=1)\n",
    "\n",
    "history = model.fit(train_data, train_label, validation_split=0.1, epochs=1000, verbose=0, callbacks=[es]) # callbacks=[es, tensorboard_callback])\n",
    "print(history)\n",
    "# plot\n",
    "pd.DataFrame(history.history).plot(figsize=(16,10), grid=1, xlabel=\"epoch\", ylabel=\"accuracy\")\n",
    "plt.show()"
   ],
   "outputs": [
    {
     "output_type": "stream",
     "name": "stdout",
     "text": [
      "Model: \"model_8\"\n",
      "_________________________________________________________________\n",
      "Layer (type)                 Output Shape              Param #   \n",
      "=================================================================\n",
      "input_9 (InputLayer)         [(None, 2, 1)]            0         \n",
      "_________________________________________________________________\n",
      "dense_19 (Dense)             (None, 2, 3)              6         \n",
      "_________________________________________________________________\n",
      "dense_20 (Dense)             (None, 2, 1)              4         \n",
      "=================================================================\n",
      "Total params: 10\n",
      "Trainable params: 10\n",
      "Non-trainable params: 0\n",
      "_________________________________________________________________\n"
     ]
    },
    {
     "output_type": "stream",
     "name": "stderr",
     "text": [
      "2021-07-30 18:32:34.531109: I tensorflow/core/profiler/lib/profiler_session.cc:126] Profiler session initializing.\n",
      "2021-07-30 18:32:34.531133: I tensorflow/core/profiler/lib/profiler_session.cc:141] Profiler session started.\n",
      "2021-07-30 18:32:34.531895: I tensorflow/core/profiler/lib/profiler_session.cc:159] Profiler session tear down.\n"
     ]
    },
    {
     "output_type": "stream",
     "name": "stdout",
     "text": [
      "<tensorflow.python.keras.callbacks.History object at 0x7f41e4164190>\n"
     ]
    },
    {
     "output_type": "display_data",
     "data": {
      "text/plain": [
       "<Figure size 1152x720 with 1 Axes>"
      ],
      "image/png": "[encoded data removed]"
     },
     "metadata": {
      "needs_background": "light"
     }
    }
   ],
   "metadata": {}
  },
  {
   "cell_type": "code",
   "execution_count": 87,
   "source": [
    "# evauate\n",
    "test_loss, test_acc = model.evaluate(test_data,  test_label, verbose=2)\n",
    "print(f'test_loss: {test_loss} test_accuracy: {test_acc}')"
   ],
   "outputs": [
    {
     "output_type": "stream",
     "name": "stdout",
     "text": [
      "52/52 - 0s - loss: 0.3290 - accuracy: 0.7967\n",
      "test_loss: 0.32904189825057983 test_accuracy: 0.7966932058334351\n"
     ]
    }
   ],
   "metadata": {}
  },
  {
   "cell_type": "code",
   "execution_count": 99,
   "source": [
    "def runit(model, inp):\n",
    "    inp = np.array(inp)\n",
    "    pred = model.predict(inp)\n",
    "    return pred\n",
    "    \n",
    "print(runit(model, [0.0, 0.4]))"
   ],
   "outputs": [
    {
     "output_type": "stream",
     "name": "stdout",
     "text": [
      "[[[5.6179334e-07]]\n",
      "\n",
      " [[7.4369192e-01]]]\n"
     ]
    }
   ],
   "metadata": {}
  },
  {
   "cell_type": "code",
   "execution_count": 33,
   "source": [
    "category_names = [\"on\", \"off\", \"Nan\"]\n",
    "classes = list(range(len(category_names)))\n",
    "########## CM ##########\n",
    "predict = model.predict(test_data)\n",
    "# predicted = np.argmax(predict, axis=1)\n",
    "\n",
    "draw_CM(test_label, predict)\n",
    "\n",
    "########## ROC, AUC ##########\n",
    "x = label_binarize(predict, classes=classes)\n",
    "y = label_binarize(test_label, classes=classes)\n",
    "\n",
    "draw_ROC_AUC(x, y, category_names)"
   ],
   "outputs": [
    {
     "output_type": "error",
     "ename": "InvalidArgumentError",
     "evalue": "Dimensions [0,2) of indices[shape=[1224,2,3]] must match dimensions [0,2) of updates[shape=[1224,3]] [Op:ScatterNd]",
     "traceback": [
      "\u001b[0;31m---------------------------------------------------------------------------\u001b[0m",
      "\u001b[0;31mInvalidArgumentError\u001b[0m                      Traceback (most recent call last)",
      "\u001b[0;32m/tmp/ipykernel_777756/1271108206.py\u001b[0m in \u001b[0;36m<module>\u001b[0;34m\u001b[0m\n\u001b[1;32m      5\u001b[0m \u001b[0;31m# predicted = np.argmax(predict, axis=1)\u001b[0m\u001b[0;34m\u001b[0m\u001b[0;34m\u001b[0m\u001b[0;34m\u001b[0m\u001b[0m\n\u001b[1;32m      6\u001b[0m \u001b[0;34m\u001b[0m\u001b[0m\n\u001b[0;32m----> 7\u001b[0;31m \u001b[0mdraw_CM\u001b[0m\u001b[0;34m(\u001b[0m\u001b[0mtest_label\u001b[0m\u001b[0;34m,\u001b[0m \u001b[0mpredict\u001b[0m\u001b[0;34m)\u001b[0m\u001b[0;34m\u001b[0m\u001b[0;34m\u001b[0m\u001b[0m\n\u001b[0m\u001b[1;32m      8\u001b[0m \u001b[0;34m\u001b[0m\u001b[0m\n\u001b[1;32m      9\u001b[0m \u001b[0;31m########## ROC, AUC ##########\u001b[0m\u001b[0;34m\u001b[0m\u001b[0;34m\u001b[0m\u001b[0;34m\u001b[0m\u001b[0m\n",
      "\u001b[0;32m/tmp/ipykernel_777756/2606602708.py\u001b[0m in \u001b[0;36mdraw_CM\u001b[0;34m(label, predicted)\u001b[0m\n\u001b[1;32m      1\u001b[0m \u001b[0;32mdef\u001b[0m \u001b[0mdraw_CM\u001b[0m\u001b[0;34m(\u001b[0m\u001b[0mlabel\u001b[0m\u001b[0;34m,\u001b[0m \u001b[0mpredicted\u001b[0m\u001b[0;34m)\u001b[0m\u001b[0;34m:\u001b[0m\u001b[0;34m\u001b[0m\u001b[0;34m\u001b[0m\u001b[0m\n\u001b[0;32m----> 2\u001b[0;31m     \u001b[0mcm\u001b[0m \u001b[0;34m=\u001b[0m \u001b[0mconfusion_matrix\u001b[0m\u001b[0;34m(\u001b[0m\u001b[0mlabel\u001b[0m\u001b[0;34m,\u001b[0m \u001b[0mpredicted\u001b[0m\u001b[0;34m)\u001b[0m\u001b[0;34m\u001b[0m\u001b[0;34m\u001b[0m\u001b[0m\n\u001b[0m\u001b[1;32m      3\u001b[0m     \u001b[0msns\u001b[0m\u001b[0;34m.\u001b[0m\u001b[0mheatmap\u001b[0m\u001b[0;34m(\u001b[0m\u001b[0mcm\u001b[0m\u001b[0;34m,\u001b[0m \u001b[0mannot\u001b[0m\u001b[0;34m=\u001b[0m\u001b[0;32mTrue\u001b[0m\u001b[0;34m,\u001b[0m \u001b[0mfmt\u001b[0m\u001b[0;34m=\u001b[0m\u001b[0;34m\"d\"\u001b[0m\u001b[0;34m)\u001b[0m\u001b[0;34m\u001b[0m\u001b[0;34m\u001b[0m\u001b[0m\n\u001b[1;32m      4\u001b[0m     \u001b[0mplt\u001b[0m\u001b[0;34m.\u001b[0m\u001b[0mylabel\u001b[0m\u001b[0;34m(\u001b[0m\u001b[0;34m'Actual label'\u001b[0m\u001b[0;34m)\u001b[0m\u001b[0;34m\u001b[0m\u001b[0;34m\u001b[0m\u001b[0m\n\u001b[1;32m      5\u001b[0m     \u001b[0mplt\u001b[0m\u001b[0;34m.\u001b[0m\u001b[0mxlabel\u001b[0m\u001b[0;34m(\u001b[0m\u001b[0;34m'Predicted label'\u001b[0m\u001b[0;34m)\u001b[0m\u001b[0;34m\u001b[0m\u001b[0;34m\u001b[0m\u001b[0m\n",
      "\u001b[0;32m~/.local/lib/python3.8/site-packages/tensorflow/python/util/dispatch.py\u001b[0m in \u001b[0;36mwrapper\u001b[0;34m(*args, **kwargs)\u001b[0m\n\u001b[1;32m    204\u001b[0m     \u001b[0;34m\"\"\"Call target, and fall back on dispatchers if there is a TypeError.\"\"\"\u001b[0m\u001b[0;34m\u001b[0m\u001b[0;34m\u001b[0m\u001b[0m\n\u001b[1;32m    205\u001b[0m     \u001b[0;32mtry\u001b[0m\u001b[0;34m:\u001b[0m\u001b[0;34m\u001b[0m\u001b[0;34m\u001b[0m\u001b[0m\n\u001b[0;32m--> 206\u001b[0;31m       \u001b[0;32mreturn\u001b[0m \u001b[0mtarget\u001b[0m\u001b[0;34m(\u001b[0m\u001b[0;34m*\u001b[0m\u001b[0margs\u001b[0m\u001b[0;34m,\u001b[0m \u001b[0;34m**\u001b[0m\u001b[0mkwargs\u001b[0m\u001b[0;34m)\u001b[0m\u001b[0;34m\u001b[0m\u001b[0;34m\u001b[0m\u001b[0m\n\u001b[0m\u001b[1;32m    207\u001b[0m     \u001b[0;32mexcept\u001b[0m \u001b[0;34m(\u001b[0m\u001b[0mTypeError\u001b[0m\u001b[0;34m,\u001b[0m \u001b[0mValueError\u001b[0m\u001b[0;34m)\u001b[0m\u001b[0;34m:\u001b[0m\u001b[0;34m\u001b[0m\u001b[0;34m\u001b[0m\u001b[0m\n\u001b[1;32m    208\u001b[0m       \u001b[0;31m# Note: convert_to_eager_tensor currently raises a ValueError, not a\u001b[0m\u001b[0;34m\u001b[0m\u001b[0;34m\u001b[0m\u001b[0;34m\u001b[0m\u001b[0m\n",
      "\u001b[0;32m~/.local/lib/python3.8/site-packages/tensorflow/python/ops/confusion_matrix.py\u001b[0m in \u001b[0;36mconfusion_matrix\u001b[0;34m(labels, predictions, num_classes, weights, dtype, name)\u001b[0m\n\u001b[1;32m    193\u001b[0m     values = (array_ops.ones_like(predictions, dtype)\n\u001b[1;32m    194\u001b[0m               if weights is None else weights)\n\u001b[0;32m--> 195\u001b[0;31m     return array_ops.scatter_nd(\n\u001b[0m\u001b[1;32m    196\u001b[0m         \u001b[0mindices\u001b[0m\u001b[0;34m=\u001b[0m\u001b[0mindices\u001b[0m\u001b[0;34m,\u001b[0m\u001b[0;34m\u001b[0m\u001b[0;34m\u001b[0m\u001b[0m\n\u001b[1;32m    197\u001b[0m         \u001b[0mupdates\u001b[0m\u001b[0;34m=\u001b[0m\u001b[0mvalues\u001b[0m\u001b[0;34m,\u001b[0m\u001b[0;34m\u001b[0m\u001b[0;34m\u001b[0m\u001b[0m\n",
      "\u001b[0;32m~/.local/lib/python3.8/site-packages/tensorflow/python/ops/gen_array_ops.py\u001b[0m in \u001b[0;36mscatter_nd\u001b[0;34m(indices, updates, shape, name)\u001b[0m\n\u001b[1;32m   8995\u001b[0m       \u001b[0;32mreturn\u001b[0m \u001b[0m_result\u001b[0m\u001b[0;34m\u001b[0m\u001b[0;34m\u001b[0m\u001b[0m\n\u001b[1;32m   8996\u001b[0m     \u001b[0;32mexcept\u001b[0m \u001b[0m_core\u001b[0m\u001b[0;34m.\u001b[0m\u001b[0m_NotOkStatusException\u001b[0m \u001b[0;32mas\u001b[0m \u001b[0me\u001b[0m\u001b[0;34m:\u001b[0m\u001b[0;34m\u001b[0m\u001b[0;34m\u001b[0m\u001b[0m\n\u001b[0;32m-> 8997\u001b[0;31m       \u001b[0m_ops\u001b[0m\u001b[0;34m.\u001b[0m\u001b[0mraise_from_not_ok_status\u001b[0m\u001b[0;34m(\u001b[0m\u001b[0me\u001b[0m\u001b[0;34m,\u001b[0m \u001b[0mname\u001b[0m\u001b[0;34m)\u001b[0m\u001b[0;34m\u001b[0m\u001b[0;34m\u001b[0m\u001b[0m\n\u001b[0m\u001b[1;32m   8998\u001b[0m     \u001b[0;32mexcept\u001b[0m \u001b[0m_core\u001b[0m\u001b[0;34m.\u001b[0m\u001b[0m_FallbackException\u001b[0m\u001b[0;34m:\u001b[0m\u001b[0;34m\u001b[0m\u001b[0;34m\u001b[0m\u001b[0m\n\u001b[1;32m   8999\u001b[0m       \u001b[0;32mpass\u001b[0m\u001b[0;34m\u001b[0m\u001b[0;34m\u001b[0m\u001b[0m\n",
      "\u001b[0;32m~/.local/lib/python3.8/site-packages/tensorflow/python/framework/ops.py\u001b[0m in \u001b[0;36mraise_from_not_ok_status\u001b[0;34m(e, name)\u001b[0m\n\u001b[1;32m   6895\u001b[0m   \u001b[0mmessage\u001b[0m \u001b[0;34m=\u001b[0m \u001b[0me\u001b[0m\u001b[0;34m.\u001b[0m\u001b[0mmessage\u001b[0m \u001b[0;34m+\u001b[0m \u001b[0;34m(\u001b[0m\u001b[0;34m\" name: \"\u001b[0m \u001b[0;34m+\u001b[0m \u001b[0mname\u001b[0m \u001b[0;32mif\u001b[0m \u001b[0mname\u001b[0m \u001b[0;32mis\u001b[0m \u001b[0;32mnot\u001b[0m \u001b[0;32mNone\u001b[0m \u001b[0;32melse\u001b[0m \u001b[0;34m\"\"\u001b[0m\u001b[0;34m)\u001b[0m\u001b[0;34m\u001b[0m\u001b[0;34m\u001b[0m\u001b[0m\n\u001b[1;32m   6896\u001b[0m   \u001b[0;31m# pylint: disable=protected-access\u001b[0m\u001b[0;34m\u001b[0m\u001b[0;34m\u001b[0m\u001b[0;34m\u001b[0m\u001b[0m\n\u001b[0;32m-> 6897\u001b[0;31m   \u001b[0msix\u001b[0m\u001b[0;34m.\u001b[0m\u001b[0mraise_from\u001b[0m\u001b[0;34m(\u001b[0m\u001b[0mcore\u001b[0m\u001b[0;34m.\u001b[0m\u001b[0m_status_to_exception\u001b[0m\u001b[0;34m(\u001b[0m\u001b[0me\u001b[0m\u001b[0;34m.\u001b[0m\u001b[0mcode\u001b[0m\u001b[0;34m,\u001b[0m \u001b[0mmessage\u001b[0m\u001b[0;34m)\u001b[0m\u001b[0;34m,\u001b[0m \u001b[0;32mNone\u001b[0m\u001b[0;34m)\u001b[0m\u001b[0;34m\u001b[0m\u001b[0;34m\u001b[0m\u001b[0m\n\u001b[0m\u001b[1;32m   6898\u001b[0m   \u001b[0;31m# pylint: enable=protected-access\u001b[0m\u001b[0;34m\u001b[0m\u001b[0;34m\u001b[0m\u001b[0;34m\u001b[0m\u001b[0m\n\u001b[1;32m   6899\u001b[0m \u001b[0;34m\u001b[0m\u001b[0m\n",
      "\u001b[0;32m~/.local/lib/python3.8/site-packages/six.py\u001b[0m in \u001b[0;36mraise_from\u001b[0;34m(value, from_value)\u001b[0m\n",
      "\u001b[0;31mInvalidArgumentError\u001b[0m: Dimensions [0,2) of indices[shape=[1224,2,3]] must match dimensions [0,2) of updates[shape=[1224,3]] [Op:ScatterNd]"
     ]
    }
   ],
   "metadata": {}
  },
  {
   "cell_type": "markdown",
   "source": [
    "## 6. save model & load model"
   ],
   "metadata": {}
  },
  {
   "cell_type": "code",
   "execution_count": null,
   "source": [
    "model_name =  \"model/model_\" + dt.now().strftime(\"%Y%m%d-%H%M%S\")\n",
    "model_format = \".h5\"\n",
    "save_name = model_name + model_format\n",
    "model.save(save_name)"
   ],
   "outputs": [],
   "metadata": {}
  },
  {
   "cell_type": "code",
   "execution_count": 20,
   "source": [
    "# launch tensorboard @ localhost:6006\n",
    "%tensorboard --logdir logs/ --host localhost --port 6006"
   ],
   "outputs": [
    {
     "output_type": "display_data",
     "data": {
      "text/plain": [
       "Reusing TensorBoard on port 6006 (pid 498939), started 17:16:40 ago. (Use '!kill 498939' to kill it.)"
      ]
     },
     "metadata": {}
    },
    {
     "output_type": "display_data",
     "data": {
      "text/plain": [
       "<IPython.core.display.HTML object>"
      ],
      "text/html": [
       "\n",
       "      <iframe id=\"tensorboard-frame-a7d0560d491e5e9b\" width=\"100%\" height=\"800\" frameborder=\"0\">\n",
       "      </iframe>\n",
       "      <script>\n",
       "        (function() {\n",
       "          const frame = document.getElementById(\"tensorboard-frame-a7d0560d491e5e9b\");\n",
       "          const url = new URL(\"http://localhost\");\n",
       "          const port = 6006;\n",
       "          if (port) {\n",
       "            url.port = port;\n",
       "          }\n",
       "          frame.src = url;\n",
       "        })();\n",
       "      </script>\n",
       "    "
      ]
     },
     "metadata": {}
    }
   ],
   "metadata": {}
  }
 ],
 "metadata": {
  "orig_nbformat": 4,
  "language_info": {
   "name": "python",
   "version": "3.8.10",
   "mimetype": "text/x-python",
   "codemirror_mode": {
    "name": "ipython",
    "version": 3
   },
   "pygments_lexer": "ipython3",
   "nbconvert_exporter": "python",
   "file_extension": ".py"
  },
  "kernelspec": {
   "name": "python3",
   "display_name": "Python 3.8.10 64-bit"
  },
  "interpreter": {
   "hash": "31f2aee4e71d21fbe5cf8b01ff0e069b9275f58929596ceb00d14d90e3e16cd6"
  }
 },
 "nbformat": 4,
 "nbformat_minor": 2
}