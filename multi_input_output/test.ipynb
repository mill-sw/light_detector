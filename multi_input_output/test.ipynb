{
 "cells": [
  {
   "cell_type": "code",
   "execution_count": 33,
   "source": [
    "import pandas as pd\n",
    "import numpy as np\n",
    "import plotly.express as px\n",
    "import tensorflow as tf\n",
    "\n",
    "path = '/home/z/Downloads/label/'\n",
    "filepath = 'test.csv'\n",
    "df = pd.read_csv(path + filepath)\n"
   ],
   "outputs": [],
   "metadata": {}
  },
  {
   "cell_type": "code",
   "execution_count": 54,
   "source": [
    "df = df[['device_field03', 'illuminance_onoff', 'device_data_reg_dtm']]\n",
    "print(df)"
   ],
   "outputs": [
    {
     "output_type": "stream",
     "name": "stdout",
     "text": [
      "       device_field03  illuminance_onoff  device_data_reg_dtm\n",
      "0                19.0                  0  2020-07-01 00:01:05\n",
      "1                19.0                  0  2020-07-01 00:11:06\n",
      "2                19.0                  0  2020-07-01 00:21:06\n",
      "3                19.0                  0  2020-07-01 00:31:06\n",
      "4                19.0                  0  2020-07-01 00:41:05\n",
      "...               ...                ...                  ...\n",
      "48979            16.0                  1  2021-06-30 23:10:43\n",
      "48980            16.0                  1  2021-06-30 23:20:42\n",
      "48981            15.0                  1  2021-06-30 23:30:42\n",
      "48982            15.0                  1  2021-06-30 23:40:42\n",
      "48983            16.0                  1  2021-06-30 23:50:43\n",
      "\n",
      "[48984 rows x 3 columns]\n"
     ]
    }
   ],
   "metadata": {}
  },
  {
   "cell_type": "code",
   "execution_count": 51,
   "source": [
    "# df['device_data_reg_dtm'] = pd,to_datetime(df['device_data_reg_dtm'], infer_datetime_format=True)\n",
    "train_test = df['device_field03'].to_numpy()\n",
    "label = df['illuminance_onoff'].to_numpy()\n",
    "datetime_data = df['device_data_reg_dtm']"
   ],
   "outputs": [],
   "metadata": {}
  },
  {
   "cell_type": "code",
   "execution_count": 50,
   "source": [
    "print(train_test[:10])\n",
    "print(label[:10])\n",
    "print(datetime_data)"
   ],
   "outputs": [
    {
     "output_type": "stream",
     "name": "stdout",
     "text": [
      "[19. 19. 19. 19. 19. 17. 17. 19. 19.  0.]\n",
      "[0 0 0 0 0 0 0 0 0 0]\n",
      "<bound method Series.to_timestamp of 0        2020-07-01 00:01:05\n",
      "1        2020-07-01 00:11:06\n",
      "2        2020-07-01 00:21:06\n",
      "3        2020-07-01 00:31:06\n",
      "4        2020-07-01 00:41:05\n",
      "                ...         \n",
      "48979    2021-06-30 23:10:43\n",
      "48980    2021-06-30 23:20:42\n",
      "48981    2021-06-30 23:30:42\n",
      "48982    2021-06-30 23:40:42\n",
      "48983    2021-06-30 23:50:43\n",
      "Name: device_data_reg_dtm, Length: 48984, dtype: object>\n"
     ]
    }
   ],
   "metadata": {}
  },
  {
   "cell_type": "code",
   "execution_count": 49,
   "source": [
    "print(train_test.shape)\n",
    "print(label_data.shape)"
   ],
   "outputs": [
    {
     "output_type": "stream",
     "name": "stdout",
     "text": [
      "(48984,)\n",
      "(48984,)\n"
     ]
    }
   ],
   "metadata": {}
  },
  {
   "cell_type": "code",
   "execution_count": 43,
   "source": [
    "train_test = train_test / 255.0\n",
    "train_test[:10]"
   ],
   "outputs": [
    {
     "output_type": "execute_result",
     "data": {
      "text/plain": [
       "array([0.0002922 , 0.0002922 , 0.0002922 , 0.0002922 , 0.0002922 ,\n",
       "       0.00026144, 0.00026144, 0.0002922 , 0.0002922 , 0.        ])"
      ]
     },
     "metadata": {},
     "execution_count": 43
    }
   ],
   "metadata": {}
  },
  {
   "cell_type": "code",
   "execution_count": null,
   "source": [
    "model = tf.keras.Sequential([\n",
    "    tf.keras.layers.Flatten(input_shape=(1,)),\n",
    "    tf.keras.layers.Dense(128, activation='relu'),\n",
    "    tf.keras.layers.Dense(10)\n",
    "])"
   ],
   "outputs": [],
   "metadata": {}
  },
  {
   "cell_type": "code",
   "execution_count": null,
   "source": [],
   "outputs": [],
   "metadata": {}
  },
  {
   "cell_type": "code",
   "execution_count": null,
   "source": [],
   "outputs": [],
   "metadata": {}
  },
  {
   "cell_type": "code",
   "execution_count": null,
   "source": [],
   "outputs": [],
   "metadata": {}
  },
  {
   "cell_type": "code",
   "execution_count": null,
   "source": [],
   "outputs": [],
   "metadata": {}
  },
  {
   "cell_type": "code",
   "execution_count": null,
   "source": [],
   "outputs": [],
   "metadata": {}
  },
  {
   "cell_type": "code",
   "execution_count": null,
   "source": [],
   "outputs": [],
   "metadata": {}
  },
  {
   "cell_type": "code",
   "execution_count": null,
   "source": [],
   "outputs": [],
   "metadata": {}
  },
  {
   "cell_type": "code",
   "execution_count": null,
   "source": [],
   "outputs": [],
   "metadata": {}
  },
  {
   "cell_type": "code",
   "execution_count": null,
   "source": [],
   "outputs": [],
   "metadata": {}
  },
  {
   "cell_type": "code",
   "execution_count": null,
   "source": [],
   "outputs": [],
   "metadata": {}
  }
 ],
 "metadata": {
  "orig_nbformat": 4,
  "language_info": {
   "name": "python",
   "version": "3.8.10",
   "mimetype": "text/x-python",
   "codemirror_mode": {
    "name": "ipython",
    "version": 3
   },
   "pygments_lexer": "ipython3",
   "nbconvert_exporter": "python",
   "file_extension": ".py"
  },
  "kernelspec": {
   "name": "python3",
   "display_name": "Python 3.8.10 64-bit"
  },
  "interpreter": {
   "hash": "31f2aee4e71d21fbe5cf8b01ff0e069b9275f58929596ceb00d14d90e3e16cd6"
  }
 },
 "nbformat": 4,
 "nbformat_minor": 2
}